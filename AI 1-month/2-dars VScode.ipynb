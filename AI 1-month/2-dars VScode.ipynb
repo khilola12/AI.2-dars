{
 "cells": [
  {
   "cell_type": "markdown",
   "id": "8ee84031",
   "metadata": {},
   "source": [
    "# Data types(Malumot turlari)"
   ]
  },
  {
   "cell_type": "code",
   "execution_count": 1,
   "id": "73dc16df",
   "metadata": {},
   "outputs": [
    {
     "data": {
      "text/plain": [
       "int"
      ]
     },
     "execution_count": 1,
     "metadata": {},
     "output_type": "execute_result"
    }
   ],
   "source": [
    "#int\n",
    "a=100\n",
    "type(a)\n"
   ]
  },
  {
   "cell_type": "markdown",
   "id": "546c158d",
   "metadata": {},
   "source": [
    "Data turlari\n"
   ]
  },
  {
   "cell_type": "code",
   "execution_count": 2,
   "id": "92dd5825",
   "metadata": {},
   "outputs": [
    {
     "data": {
      "text/plain": [
       "float"
      ]
     },
     "execution_count": 2,
     "metadata": {},
     "output_type": "execute_result"
    }
   ],
   "source": [
    "#float\n",
    "b=3.5\n",
    "type(b)\n"
   ]
  },
  {
   "cell_type": "code",
   "execution_count": 3,
   "id": "d903fffb",
   "metadata": {},
   "outputs": [
    {
     "data": {
      "text/plain": [
       "float"
      ]
     },
     "execution_count": 3,
     "metadata": {},
     "output_type": "execute_result"
    }
   ],
   "source": [
    "a=100.0\n",
    "type(a)"
   ]
  },
  {
   "cell_type": "code",
   "execution_count": 5,
   "id": "b94f7db0",
   "metadata": {},
   "outputs": [
    {
     "data": {
      "text/plain": [
       "str"
      ]
     },
     "execution_count": 5,
     "metadata": {},
     "output_type": "execute_result"
    }
   ],
   "source": [
    "#str\n",
    "s='Hello'\n",
    "type(s)"
   ]
  },
  {
   "cell_type": "code",
   "execution_count": 4,
   "id": "9b2fb67f",
   "metadata": {},
   "outputs": [
    {
     "data": {
      "text/plain": [
       "str"
      ]
     },
     "execution_count": 4,
     "metadata": {},
     "output_type": "execute_result"
    }
   ],
   "source": [
    "s=\"Hello\"\n",
    "type(s)"
   ]
  },
  {
   "cell_type": "code",
   "execution_count": 6,
   "id": "512ea765",
   "metadata": {},
   "outputs": [
    {
     "data": {
      "text/plain": [
       "False"
      ]
     },
     "execution_count": 6,
     "metadata": {},
     "output_type": "execute_result"
    }
   ],
   "source": [
    "#Boolean\n",
    "1<0"
   ]
  },
  {
   "cell_type": "markdown",
   "id": "abe32028",
   "metadata": {},
   "source": [
    "# Operations"
   ]
  },
  {
   "cell_type": "code",
   "execution_count": null,
   "id": "bc88c149",
   "metadata": {},
   "outputs": [
    {
     "name": "stdout",
     "output_type": "stream",
     "text": [
      "1\n"
     ]
    }
   ],
   "source": [
    "#Math operations\n",
    "#+,-,*,/,//,%,**"
   ]
  },
  {
   "cell_type": "code",
   "execution_count": 27,
   "id": "080fa194",
   "metadata": {},
   "outputs": [
    {
     "name": "stdout",
     "output_type": "stream",
     "text": [
      "10\n",
      "2\n",
      "24\n",
      "1.5\n",
      "1\n",
      "2\n",
      "1296\n"
     ]
    }
   ],
   "source": [
    "a=6\n",
    "b=4\n",
    "print(a+b)\n",
    "print(a-b)\n",
    "print(a*b)\n",
    "print(a/b)\n",
    "print(a//b)\n",
    "print(a%b)\n",
    "print(a**b)\n",
    "\n"
   ]
  },
  {
   "cell_type": "code",
   "execution_count": 28,
   "id": "957886bc",
   "metadata": {},
   "outputs": [
    {
     "name": "stdout",
     "output_type": "stream",
     "text": [
      "2\n",
      "4\n",
      "6\n",
      "8\n",
      "10\n"
     ]
    }
   ],
   "source": [
    "a=[1,2,3,4,5,6,7,8,9,10]\n",
    "for i in a:\n",
    "    if i%2==0:\n",
    "        print(i)\n"
   ]
  },
  {
   "cell_type": "code",
   "execution_count": 30,
   "id": "d42df634",
   "metadata": {},
   "outputs": [
    {
     "data": {
      "text/plain": [
       "False"
      ]
     },
     "execution_count": 30,
     "metadata": {},
     "output_type": "execute_result"
    }
   ],
   "source": [
    "#LOgic Operations\n",
    "# ==,!=, >,<,>=,<=,and , or \n",
    "a=2\n",
    "b=1\n",
    "a==b"
   ]
  },
  {
   "cell_type": "code",
   "execution_count": 31,
   "id": "35c8665e",
   "metadata": {},
   "outputs": [
    {
     "data": {
      "text/plain": [
       "True"
      ]
     },
     "execution_count": 31,
     "metadata": {},
     "output_type": "execute_result"
    }
   ],
   "source": [
    "a!=b"
   ]
  },
  {
   "cell_type": "code",
   "execution_count": 32,
   "id": "114f1661",
   "metadata": {},
   "outputs": [
    {
     "data": {
      "text/plain": [
       "True"
      ]
     },
     "execution_count": 32,
     "metadata": {},
     "output_type": "execute_result"
    }
   ],
   "source": [
    "a>b"
   ]
  },
  {
   "cell_type": "code",
   "execution_count": 35,
   "id": "24cef305",
   "metadata": {},
   "outputs": [
    {
     "name": "stdout",
     "output_type": "stream",
     "text": [
      "2\n",
      "4\n",
      "6\n",
      "8\n",
      "10\n",
      "-5\n",
      "-6\n"
     ]
    }
   ],
   "source": [
    "a=[1,2,3,4,5,6,7,8,9,10,-5,-6]   # juft va musbat sonlarni \n",
    "for i in a:\n",
    "    if i%2==0 or i<0:\n",
    "        print(i)\n"
   ]
  },
  {
   "cell_type": "markdown",
   "id": "9071252e",
   "metadata": {},
   "source": [
    "# Vazifa"
   ]
  },
  {
   "cell_type": "code",
   "execution_count": 1,
   "id": "e09806c1",
   "metadata": {},
   "outputs": [
    {
     "name": "stdout",
     "output_type": "stream",
     "text": [
      "a + b + c = 12\n",
      "a - b - c = 0\n",
      "a * b * c = 48\n",
      "a / b = 1.5\n",
      "b / c = 2.0\n",
      "a // b = 1\n",
      "a % b = 2\n",
      "b % c = 0\n",
      "a ** c = 36\n"
     ]
    }
   ],
   "source": [
    "#Berilgan 3 ta son ustida darsimizda berilgan Matematik operationslarni qo'llagan xolatda kodlar  yozing\n",
    "a=6\n",
    "b=4\n",
    "c=2\n",
    "\n",
    "\n",
    "\n",
    "#Qo‘shish\n",
    "print(\"a + b + c =\", a + b + c)   \n",
    "\n",
    "# Ayirish\n",
    "print(\"a - b - c =\", a - b - c)   \n",
    "\n",
    "# Ko‘paytirish\n",
    "print(\"a * b * c =\", a * b * c)  \n",
    "\n",
    "# Oddiy bo‘lish \n",
    "print(\"a / b =\", a / b)  \n",
    "print(\"b / c =\", b / c)         \n",
    "\n",
    "# Butun bo‘lish\n",
    "print(\"a // b =\", a // b)    \n",
    "\n",
    "# Qoldiqli bo‘lish\n",
    "print(\"a % b =\", a % b) \n",
    "print(\"b % c =\", b % c)     \n",
    "\n",
    "print(\"a ** c =\", a ** c)\n",
    "\n"
   ]
  },
  {
   "cell_type": "code",
   "execution_count": null,
   "id": "7ee1bb4e",
   "metadata": {},
   "outputs": [],
   "source": []
  }
 ],
 "metadata": {
  "kernelspec": {
   "display_name": "base",
   "language": "python",
   "name": "python3"
  },
  "language_info": {
   "codemirror_mode": {
    "name": "ipython",
    "version": 3
   },
   "file_extension": ".py",
   "mimetype": "text/x-python",
   "name": "python",
   "nbconvert_exporter": "python",
   "pygments_lexer": "ipython3",
   "version": "3.12.4"
  }
 },
 "nbformat": 4,
 "nbformat_minor": 5
}
