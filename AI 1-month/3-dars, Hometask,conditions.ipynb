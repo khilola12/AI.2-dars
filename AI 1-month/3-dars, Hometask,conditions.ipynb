{
 "cells": [
  {
   "cell_type": "markdown",
   "id": "c59e2df7",
   "metadata": {},
   "source": [
    "# Conditions"
   ]
  },
  {
   "cell_type": "code",
   "execution_count": 2,
   "id": "6ea75da2",
   "metadata": {},
   "outputs": [],
   "source": [
    "# Agar berilgan son 2 ga bo'linsa juft son deb ekranga chiqarilsin\n",
    "\n",
    "a=7\n",
    "if a%2==0:\n",
    "    print('Just son')"
   ]
  },
  {
   "cell_type": "code",
   "execution_count": 3,
   "id": "ca2cd103",
   "metadata": {},
   "outputs": [
    {
     "name": "stdout",
     "output_type": "stream",
     "text": [
      "Toq son\n"
     ]
    }
   ],
   "source": [
    "# Agar berilgan son 2 ga bo'linsa juft son deb ekranga chiqarilsin\n",
    "\n",
    "a=7\n",
    "if a%2==0:\n",
    "    print('Just son')\n",
    "else:\n",
    "    print('Toq son')"
   ]
  },
  {
   "cell_type": "code",
   "execution_count": 8,
   "id": "ec4df0ce",
   "metadata": {},
   "outputs": [
    {
     "name": "stdout",
     "output_type": "stream",
     "text": [
      "Just son\n"
     ]
    }
   ],
   "source": [
    "# Agar berilgan son 2 ga bo'linsa juft son deb ekranga chiqarilsin\n",
    "\n",
    "a=0\n",
    "if a%2==0:\n",
    "    print('Just son')\n",
    "elif a==0:\n",
    "    print('a soni nolga teng')\n",
    "else:\n",
    "    print('Toq son')"
   ]
  },
  {
   "cell_type": "code",
   "execution_count": 11,
   "id": "6ecf02a6",
   "metadata": {},
   "outputs": [
    {
     "name": "stdout",
     "output_type": "stream",
     "text": [
      "Musbat\n"
     ]
    }
   ],
   "source": [
    "# Agar son musbat bolsa musbat , manfiy bolsa manfiy aks xolda nol deb ekranga chiqrilsin\n",
    "b=6\n",
    "if b>0:\n",
    "    print('Musbat')\n",
    "elif b<0:\n",
    "    print('Manfiy')\n",
    "else:\n",
    "    print('nolga teng')"
   ]
  },
  {
   "cell_type": "code",
   "execution_count": 12,
   "id": "c9da7cc6",
   "metadata": {},
   "outputs": [
    {
     "name": "stdout",
     "output_type": "stream",
     "text": [
      "Musbat\n"
     ]
    }
   ],
   "source": [
    "# Agar son musbat bolsa musbat , manfiy bolsa manfiy aks xolda nol deb ekranga chiqrilsin\n",
    "b=6\n",
    "if b>0:\n",
    "    print('Musbat')\n",
    "elif b<0:\n",
    "    print('Manfiy')\n",
    "elif b==7:\n",
    "    print('7 ga teng')\n",
    "else:\n",
    "    print('nolga teng')"
   ]
  },
  {
   "cell_type": "markdown",
   "id": "184fa987",
   "metadata": {},
   "source": [
    "# Vazifa"
   ]
  },
  {
   "cell_type": "code",
   "execution_count": 17,
   "id": "0656c1e2",
   "metadata": {},
   "outputs": [
    {
     "name": "stdout",
     "output_type": "stream",
     "text": [
      "tugri\n"
     ]
    }
   ],
   "source": [
    "#Berilgan son 5 ga bo'linsa bg abo'linadigan son aks xolda xato deb ekranga chiqaring\n",
    "# Berilgan son 5 ga bolinsa va musbat bolsa yaxshi aks xolda yomon degan sozni ekranga chiqaring\n",
    "a=10\n",
    "if a%5==0:\n",
    "    print('tugri')\n",
    "else:\n",
    "    print('xato')"
   ]
  },
  {
   "cell_type": "code",
   "execution_count": 14,
   "id": "e9a4ef0c",
   "metadata": {},
   "outputs": [
    {
     "name": "stdout",
     "output_type": "stream",
     "text": [
      "xato\n"
     ]
    }
   ],
   "source": [
    "a=9\n",
    "if a%5==0:\n",
    "    print('tugri')\n",
    "else:\n",
    "    print('xato')"
   ]
  },
  {
   "cell_type": "code",
   "execution_count": 20,
   "id": "f7bae21a",
   "metadata": {},
   "outputs": [
    {
     "name": "stdout",
     "output_type": "stream",
     "text": [
      "yaxshi\n"
     ]
    }
   ],
   "source": [
    "# Berilgan son 5 ga bolinsa va musbat bolsa yaxshi aks xolda yomon degan sozni ekranga chiqaring\n",
    "a=20\n",
    "if a>0:\n",
    "    print('yaxshi')\n",
    "else:\n",
    "    print('yomon')"
   ]
  },
  {
   "cell_type": "code",
   "execution_count": 22,
   "id": "f5b908d0",
   "metadata": {},
   "outputs": [
    {
     "name": "stdout",
     "output_type": "stream",
     "text": [
      "yomon\n"
     ]
    }
   ],
   "source": [
    "a=22\n",
    "if a<0:\n",
    "    print('yaxshi')\n",
    "else:\n",
    "    print('yomon')"
   ]
  },
  {
   "cell_type": "code",
   "execution_count": null,
   "id": "d3c6f653",
   "metadata": {},
   "outputs": [],
   "source": []
  }
 ],
 "metadata": {
  "kernelspec": {
   "display_name": "base",
   "language": "python",
   "name": "python3"
  },
  "language_info": {
   "codemirror_mode": {
    "name": "ipython",
    "version": 3
   },
   "file_extension": ".py",
   "mimetype": "text/x-python",
   "name": "python",
   "nbconvert_exporter": "python",
   "pygments_lexer": "ipython3",
   "version": "3.12.4"
  }
 },
 "nbformat": 4,
 "nbformat_minor": 5
}
