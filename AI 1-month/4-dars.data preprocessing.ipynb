{
 "cells": [
  {
   "cell_type": "code",
   "execution_count": 1,
   "id": "323c9386",
   "metadata": {},
   "outputs": [],
   "source": [
    "import pandas as pd"
   ]
  },
  {
   "cell_type": "code",
   "execution_count": 5,
   "id": "536a9c59",
   "metadata": {},
   "outputs": [
    {
     "name": "stdout",
     "output_type": "stream",
     "text": [
      "Defaulting to user installation because normal site-packages is not writeable\n",
      "Requirement already satisfied: pandas in e:\\anaconda\\lib\\site-packages (2.2.2)\n",
      "Requirement already satisfied: numpy>=1.26.0 in e:\\anaconda\\lib\\site-packages (from pandas) (1.26.4)\n",
      "Requirement already satisfied: python-dateutil>=2.8.2 in e:\\anaconda\\lib\\site-packages (from pandas) (2.9.0.post0)\n",
      "Requirement already satisfied: pytz>=2020.1 in e:\\anaconda\\lib\\site-packages (from pandas) (2024.1)\n",
      "Requirement already satisfied: tzdata>=2022.7 in e:\\anaconda\\lib\\site-packages (from pandas) (2023.3)\n",
      "Requirement already satisfied: six>=1.5 in e:\\anaconda\\lib\\site-packages (from python-dateutil>=2.8.2->pandas) (1.16.0)\n"
     ]
    }
   ],
   "source": [
    "!pip install pandas"
   ]
  },
  {
   "cell_type": "code",
   "execution_count": 3,
   "id": "9ce6e7cc",
   "metadata": {},
   "outputs": [],
   "source": [
    "import pandas as pd"
   ]
  },
  {
   "cell_type": "code",
   "execution_count": 4,
   "id": "c994cf3d",
   "metadata": {},
   "outputs": [],
   "source": [
    "df=pd.read_csv('student_performance_prediction.csv')"
   ]
  },
  {
   "cell_type": "code",
   "execution_count": 5,
   "id": "ca692455",
   "metadata": {},
   "outputs": [
    {
     "name": "stdout",
     "output_type": "stream",
     "text": [
      "<class 'pandas.core.frame.DataFrame'>\n",
      "RangeIndex: 40000 entries, 0 to 39999\n",
      "Data columns (total 7 columns):\n",
      " #   Column                                       Non-Null Count  Dtype  \n",
      "---  ------                                       --------------  -----  \n",
      " 0   Student ID                                   40000 non-null  object \n",
      " 1   Study Hours per Week                         38005 non-null  float64\n",
      " 2   Attendance Rate                              38008 non-null  float64\n",
      " 3   Previous Grades                              38006 non-null  float64\n",
      " 4   Participation in Extracurricular Activities  38000 non-null  object \n",
      " 5   Parent Education Level                       38000 non-null  object \n",
      " 6   Passed                                       38000 non-null  object \n",
      "dtypes: float64(3), object(4)\n",
      "memory usage: 2.1+ MB\n"
     ]
    }
   ],
   "source": [
    "#Data haqida umumiy malumot olish.\n",
    "df.info()"
   ]
  },
  {
   "cell_type": "code",
   "execution_count": null,
   "id": "341a6a7d",
   "metadata": {},
   "outputs": [],
   "source": [
    "# Umumiy malumotga qaraganda jami 40 000 ta qator va 7 ustunda 0~6 gacha malumot ustunlari kiritilgan.\n",
    "# Bunda Student Id dan boshqa barcha ustunda tushirib qoldirilgan qiymatlar borligini bilish mumkin."
   ]
  },
  {
   "cell_type": "code",
   "execution_count": 6,
   "id": "9b18b488",
   "metadata": {},
   "outputs": [
    {
     "data": {
      "text/plain": [
       "Student ID                                        0\n",
       "Study Hours per Week                           1995\n",
       "Attendance Rate                                1992\n",
       "Previous Grades                                1994\n",
       "Participation in Extracurricular Activities    2000\n",
       "Parent Education Level                         2000\n",
       "Passed                                         2000\n",
       "dtype: int64"
      ]
     },
     "execution_count": 6,
     "metadata": {},
     "output_type": "execute_result"
    }
   ],
   "source": [
    "#Tushirib qoldirilgan ustunlarni aniqlash. ( isnull() -> tushirilb qoldirilgan qiymat)\n",
    "df.isnull().sum()"
   ]
  },
  {
   "cell_type": "markdown",
   "id": "59a62831",
   "metadata": {},
   "source": [
    "# Tushirib qoldirilgan ustunlarni to'ldirish\n",
    "# Mean orqali toldirish --> for Numerical columns(O'rta arifmetik usul)\n"
   ]
  },
  {
   "cell_type": "code",
   "execution_count": 7,
   "id": "f7304188",
   "metadata": {},
   "outputs": [
    {
     "name": "stderr",
     "output_type": "stream",
     "text": [
      "C:\\Users\\PC\\AppData\\Local\\Temp\\ipykernel_15264\\3124803801.py:1: FutureWarning: A value is trying to be set on a copy of a DataFrame or Series through chained assignment using an inplace method.\n",
      "The behavior will change in pandas 3.0. This inplace method will never work because the intermediate object on which we are setting values always behaves as a copy.\n",
      "\n",
      "For example, when doing 'df[col].method(value, inplace=True)', try using 'df.method({col: value}, inplace=True)' or df[col] = df[col].method(value) instead, to perform the operation inplace on the original object.\n",
      "\n",
      "\n",
      "  df['Study Hours per Week'].fillna(df['Study Hours per Week'].mean(),inplace=True)  #inplace=True  --> butunlay o'zgartirish\n"
     ]
    }
   ],
   "source": [
    "df['Study Hours per Week'].fillna(df['Study Hours per Week'].mean(),inplace=True)  #inplace=True  --> butunlay o'zgartirish"
   ]
  },
  {
   "cell_type": "code",
   "execution_count": 8,
   "id": "603c0779",
   "metadata": {},
   "outputs": [
    {
     "data": {
      "text/plain": [
       "Student ID                                        0\n",
       "Study Hours per Week                              0\n",
       "Attendance Rate                                1992\n",
       "Previous Grades                                1994\n",
       "Participation in Extracurricular Activities    2000\n",
       "Parent Education Level                         2000\n",
       "Passed                                         2000\n",
       "dtype: int64"
      ]
     },
     "execution_count": 8,
     "metadata": {},
     "output_type": "execute_result"
    }
   ],
   "source": [
    "df.isnull().sum()"
   ]
  },
  {
   "cell_type": "code",
   "execution_count": 9,
   "id": "f873d8ab",
   "metadata": {},
   "outputs": [
    {
     "name": "stderr",
     "output_type": "stream",
     "text": [
      "C:\\Users\\PC\\AppData\\Local\\Temp\\ipykernel_15264\\664491762.py:1: FutureWarning: A value is trying to be set on a copy of a DataFrame or Series through chained assignment using an inplace method.\n",
      "The behavior will change in pandas 3.0. This inplace method will never work because the intermediate object on which we are setting values always behaves as a copy.\n",
      "\n",
      "For example, when doing 'df[col].method(value, inplace=True)', try using 'df.method({col: value}, inplace=True)' or df[col] = df[col].method(value) instead, to perform the operation inplace on the original object.\n",
      "\n",
      "\n",
      "  df['Attendance Rate'].fillna(df['Attendance Rate'].mean(),inplace=True)\n"
     ]
    }
   ],
   "source": [
    "df['Attendance Rate'].fillna(df['Attendance Rate'].mean(),inplace=True)"
   ]
  },
  {
   "cell_type": "code",
   "execution_count": 10,
   "id": "76a68581",
   "metadata": {},
   "outputs": [
    {
     "name": "stderr",
     "output_type": "stream",
     "text": [
      "C:\\Users\\PC\\AppData\\Local\\Temp\\ipykernel_15264\\918093706.py:1: FutureWarning: A value is trying to be set on a copy of a DataFrame or Series through chained assignment using an inplace method.\n",
      "The behavior will change in pandas 3.0. This inplace method will never work because the intermediate object on which we are setting values always behaves as a copy.\n",
      "\n",
      "For example, when doing 'df[col].method(value, inplace=True)', try using 'df.method({col: value}, inplace=True)' or df[col] = df[col].method(value) instead, to perform the operation inplace on the original object.\n",
      "\n",
      "\n",
      "  df['Previous Grades'].fillna(df['Previous Grades'].mean(),inplace=True)\n"
     ]
    }
   ],
   "source": [
    "df['Previous Grades'].fillna(df['Previous Grades'].mean(),inplace=True)"
   ]
  },
  {
   "cell_type": "code",
   "execution_count": 11,
   "id": "1a7fbfd0",
   "metadata": {},
   "outputs": [
    {
     "data": {
      "text/plain": [
       "Student ID                                        0\n",
       "Study Hours per Week                              0\n",
       "Attendance Rate                                   0\n",
       "Previous Grades                                   0\n",
       "Participation in Extracurricular Activities    2000\n",
       "Parent Education Level                         2000\n",
       "Passed                                         2000\n",
       "dtype: int64"
      ]
     },
     "execution_count": 11,
     "metadata": {},
     "output_type": "execute_result"
    }
   ],
   "source": [
    "df.isnull().sum()"
   ]
  },
  {
   "cell_type": "markdown",
   "id": "41f306c0",
   "metadata": {},
   "source": [
    "# Mode bilan toldirish\n",
    "# (Eng ko'p takrorlangan element bilan to'ldirish)"
   ]
  },
  {
   "cell_type": "code",
   "execution_count": 12,
   "id": "559e424b",
   "metadata": {},
   "outputs": [
    {
     "name": "stderr",
     "output_type": "stream",
     "text": [
      "C:\\Users\\PC\\AppData\\Local\\Temp\\ipykernel_15264\\2689063563.py:1: FutureWarning: A value is trying to be set on a copy of a DataFrame or Series through chained assignment using an inplace method.\n",
      "The behavior will change in pandas 3.0. This inplace method will never work because the intermediate object on which we are setting values always behaves as a copy.\n",
      "\n",
      "For example, when doing 'df[col].method(value, inplace=True)', try using 'df.method({col: value}, inplace=True)' or df[col] = df[col].method(value) instead, to perform the operation inplace on the original object.\n",
      "\n",
      "\n",
      "  df['Participation in Extracurricular Activities'].fillna(df['Participation in Extracurricular Activities'].mode()[0],inplace=True)\n"
     ]
    }
   ],
   "source": [
    "df['Participation in Extracurricular Activities'].fillna(df['Participation in Extracurricular Activities'].mode()[0],inplace=True)"
   ]
  },
  {
   "cell_type": "code",
   "execution_count": 13,
   "id": "97279515",
   "metadata": {},
   "outputs": [
    {
     "name": "stderr",
     "output_type": "stream",
     "text": [
      "C:\\Users\\PC\\AppData\\Local\\Temp\\ipykernel_15264\\834675626.py:1: FutureWarning: A value is trying to be set on a copy of a DataFrame or Series through chained assignment using an inplace method.\n",
      "The behavior will change in pandas 3.0. This inplace method will never work because the intermediate object on which we are setting values always behaves as a copy.\n",
      "\n",
      "For example, when doing 'df[col].method(value, inplace=True)', try using 'df.method({col: value}, inplace=True)' or df[col] = df[col].method(value) instead, to perform the operation inplace on the original object.\n",
      "\n",
      "\n",
      "  df['Parent Education Level'].fillna(df['Parent Education Level'].mode()[0],inplace=True)\n"
     ]
    }
   ],
   "source": [
    "df['Parent Education Level'].fillna(df['Parent Education Level'].mode()[0],inplace=True)"
   ]
  },
  {
   "cell_type": "code",
   "execution_count": 14,
   "id": "2e61571b",
   "metadata": {},
   "outputs": [
    {
     "data": {
      "text/plain": [
       "Student ID                                        0\n",
       "Study Hours per Week                              0\n",
       "Attendance Rate                                   0\n",
       "Previous Grades                                   0\n",
       "Participation in Extracurricular Activities       0\n",
       "Parent Education Level                            0\n",
       "Passed                                         2000\n",
       "dtype: int64"
      ]
     },
     "execution_count": 14,
     "metadata": {},
     "output_type": "execute_result"
    }
   ],
   "source": [
    "df.isnull().sum()"
   ]
  },
  {
   "cell_type": "code",
   "execution_count": 15,
   "id": "523a7f5e",
   "metadata": {},
   "outputs": [
    {
     "name": "stderr",
     "output_type": "stream",
     "text": [
      "C:\\Users\\PC\\AppData\\Local\\Temp\\ipykernel_15264\\914900477.py:1: FutureWarning: A value is trying to be set on a copy of a DataFrame or Series through chained assignment using an inplace method.\n",
      "The behavior will change in pandas 3.0. This inplace method will never work because the intermediate object on which we are setting values always behaves as a copy.\n",
      "\n",
      "For example, when doing 'df[col].method(value, inplace=True)', try using 'df.method({col: value}, inplace=True)' or df[col] = df[col].method(value) instead, to perform the operation inplace on the original object.\n",
      "\n",
      "\n",
      "  df['Passed'].fillna(df['Passed'].mode()[0],inplace=True)  #buyerda [0] --> eng kop takrorlangan qiymat bo'yicha listga olinganda 0 listdagi eng birinchi qiymat hisoblanadi.\n"
     ]
    }
   ],
   "source": [
    "df['Passed'].fillna(df['Passed'].mode()[0],inplace=True)  #buyerda [0] --> eng kop takrorlangan qiymat bo'yicha listga olinganda 0 listdagi eng birinchi qiymat hisoblanadi."
   ]
  },
  {
   "cell_type": "code",
   "execution_count": 16,
   "id": "b26efe66",
   "metadata": {},
   "outputs": [
    {
     "data": {
      "text/plain": [
       "Student ID                                     0\n",
       "Study Hours per Week                           0\n",
       "Attendance Rate                                0\n",
       "Previous Grades                                0\n",
       "Participation in Extracurricular Activities    0\n",
       "Parent Education Level                         0\n",
       "Passed                                         0\n",
       "dtype: int64"
      ]
     },
     "execution_count": 16,
     "metadata": {},
     "output_type": "execute_result"
    }
   ],
   "source": [
    "df.isnull().sum()"
   ]
  },
  {
   "cell_type": "markdown",
   "id": "5b2a4d92",
   "metadata": {},
   "source": [
    "# Median bilan to'ldirish:\n",
    "# -> Eng o'rtadagi element bilan to'ldirish\n",
    "# -> Faqat raqamli holda\n"
   ]
  },
  {
   "cell_type": "code",
   "execution_count": 17,
   "id": "f913f087",
   "metadata": {},
   "outputs": [
    {
     "name": "stderr",
     "output_type": "stream",
     "text": [
      "C:\\Users\\PC\\AppData\\Local\\Temp\\ipykernel_15264\\150582327.py:1: FutureWarning: A value is trying to be set on a copy of a DataFrame or Series through chained assignment using an inplace method.\n",
      "The behavior will change in pandas 3.0. This inplace method will never work because the intermediate object on which we are setting values always behaves as a copy.\n",
      "\n",
      "For example, when doing 'df[col].method(value, inplace=True)', try using 'df.method({col: value}, inplace=True)' or df[col] = df[col].method(value) instead, to perform the operation inplace on the original object.\n",
      "\n",
      "\n",
      "  df['Previous Grades'].fillna(df['Previous Grades'].median(),inplace=True)\n"
     ]
    }
   ],
   "source": [
    "df['Previous Grades'].fillna(df['Previous Grades'].median(),inplace=True)"
   ]
  },
  {
   "cell_type": "code",
   "execution_count": 18,
   "id": "9c794777",
   "metadata": {},
   "outputs": [
    {
     "data": {
      "text/plain": [
       "Student ID                                     0\n",
       "Study Hours per Week                           0\n",
       "Attendance Rate                                0\n",
       "Previous Grades                                0\n",
       "Participation in Extracurricular Activities    0\n",
       "Parent Education Level                         0\n",
       "Passed                                         0\n",
       "dtype: int64"
      ]
     },
     "execution_count": 18,
     "metadata": {},
     "output_type": "execute_result"
    }
   ],
   "source": [
    "df.isnull().sum()"
   ]
  },
  {
   "cell_type": "code",
   "execution_count": null,
   "id": "092d2720",
   "metadata": {},
   "outputs": [],
   "source": []
  }
 ],
 "metadata": {
  "kernelspec": {
   "display_name": "base",
   "language": "python",
   "name": "python3"
  },
  "language_info": {
   "codemirror_mode": {
    "name": "ipython",
    "version": 3
   },
   "file_extension": ".py",
   "mimetype": "text/x-python",
   "name": "python",
   "nbconvert_exporter": "python",
   "pygments_lexer": "ipython3",
   "version": "3.12.4"
  }
 },
 "nbformat": 4,
 "nbformat_minor": 5
}
